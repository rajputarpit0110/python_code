{
  "nbformat": 4,
  "nbformat_minor": 0,
  "metadata": {
    "colab": {
      "provenance": [],
      "authorship_tag": "ABX9TyObKhfC5x7MDg1vP70mBriA",
      "include_colab_link": true
    },
    "kernelspec": {
      "name": "python3",
      "display_name": "Python 3"
    },
    "language_info": {
      "name": "python"
    }
  },
  "cells": [
    {
      "cell_type": "markdown",
      "metadata": {
        "id": "view-in-github",
        "colab_type": "text"
      },
      "source": [
        "<a href=\"https://colab.research.google.com/github/rajputarpit0110/python_code/blob/main/Untitled0.ipynb\" target=\"_parent\"><img src=\"https://colab.research.google.com/assets/colab-badge.svg\" alt=\"Open In Colab\"/></a>"
      ]
    },
    {
      "cell_type": "code",
      "execution_count": null,
      "metadata": {
        "colab": {
          "base_uri": "https://localhost:8080/"
        },
        "id": "ISdOJYPf-knj",
        "outputId": "6a88db5c-d73f-46b2-e815-ad21c53c5867"
      },
      "outputs": [
        {
          "output_type": "stream",
          "name": "stdout",
          "text": [
            "Enter First Item Price : 10\n",
            "Enter First Item Quantity : 2\n",
            "Enter Second Item Price : 15\n",
            "Enter Second Item Quantity : 3\n",
            "Enter Third Item Price : 15\n",
            "Enter Third Item Quantity : 2\n",
            "Final Bill :  85.5\n"
          ]
        }
      ],
      "source": [
        "pA=int(input(\"Enter First Item Price : \"))\n",
        "qA=int(input(\"Enter First Item Quantity : \"))\n",
        "pB=int(input(\"Enter Second Item Price : \"))\n",
        "qB=int(input(\"Enter Second Item Quantity : \"))\n",
        "pC=int(input(\"Enter Third Item Price : \"))\n",
        "qC=int(input(\"Enter Third Item Quantity : \"))\n",
        "total=(pA*qA + pB*qB + pC*qC)\n",
        "if(total>50):\n",
        "  print(\"Final Bill : \",total-total*0.1)\n",
        "else:\n",
        "  print(\"Final Bill : \",total)"
      ]
    }
  ]
}